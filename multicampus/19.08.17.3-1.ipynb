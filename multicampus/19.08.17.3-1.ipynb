{
 "cells": [
  {
   "cell_type": "code",
   "execution_count": 1,
   "metadata": {},
   "outputs": [],
   "source": [
    "import torch\n",
    "import torch.nn as nn\n",
    "import torch.nn.functional as F\n",
    "import torch.optim as optim\n",
    "\n"
   ]
  },
  {
   "cell_type": "code",
   "execution_count": 2,
   "metadata": {},
   "outputs": [],
   "source": [
    "x_train = torch.FloatTensor([[1, 2, 1],\n",
    "                             [1, 3, 2],\n",
    "                             [1, 3, 4],\n",
    "                             [1, 5, 5],\n",
    "                             [1, 7, 5],\n",
    "                             [1, 2, 5],\n",
    "                             [1, 6, 6],\n",
    "                             [1, 7, 7]\n",
    "                            ])\n",
    "y_train = torch.LongTensor([2, 2, 2, 1, 1, 1, 0, 0])\n"
   ]
  },
  {
   "cell_type": "code",
   "execution_count": 136,
   "metadata": {},
   "outputs": [],
   "source": [
    "x_test = torch.FloatTensor([[1, 6, 5], [1, 5, 2], [3, 3, 4]])\n",
    "y_test = torch.LongTensor([1,2,2])"
   ]
  },
  {
   "cell_type": "code",
   "execution_count": 162,
   "metadata": {},
   "outputs": [],
   "source": [
    "class SMCM(nn.Module):\n",
    "    def __init__(self):\n",
    "        super().__init__()\n",
    "        self.linear = nn.Linear(3,3)\n",
    "        \n",
    "    def forward(self, x):\n",
    "        # return F.log_softmax(self.linear(x), dim =1)\n",
    "        return self.linear(x)\n"
   ]
  },
  {
   "cell_type": "code",
   "execution_count": 163,
   "metadata": {},
   "outputs": [],
   "source": [
    "model = SMCM()"
   ]
  },
  {
   "cell_type": "code",
   "execution_count": 164,
   "metadata": {},
   "outputs": [],
   "source": [
    "optimizer = optim.SGD(model.parameters(), lr = 0.1)"
   ]
  },
  {
   "cell_type": "code",
   "execution_count": 165,
   "metadata": {},
   "outputs": [],
   "source": [
    "def training(model, optimizer, x_train, y_train):\n",
    "    \n",
    "    epochs = 100\n",
    "    \n",
    "    for epoch in range(epochs+1):\n",
    "        prediction = model(x_train)\n",
    "        cost = F.cross_entropy(prediction, y_train)\n",
    "        optimizer.zero_grad()\n",
    "        cost.backward()\n",
    "        optimizer.step()\n",
    "        \n",
    "        if epoch % 25 ==0:\n",
    "            print(\"cost:{:.6f}\".format(cost))\n",
    "            print(prediction)\n",
    "\n",
    "    "
   ]
  },
  {
   "cell_type": "code",
   "execution_count": 166,
   "metadata": {},
   "outputs": [],
   "source": [
    "def test(model, x_test, y_test):\n",
    "    prediction = model(x_test)\n",
    "    predicted_classes = prediction.max(1)[1]\n",
    "    correct_count = (predicted_classes == y_test).sum().item()\n",
    "    cost = F.cross_entropy(prediction, y_test)\n",
    "    \n",
    "    print(prediction.max(1))\n",
    "    print(prediction)\n",
    "    print(predicted_classes)\n",
    "    print(y_test)\n",
    "    print(predicted_classes == y_test)\n",
    "    print(\"ac:{}, cost:{}\".format((correct_count/len(y_test)), cost))\n",
    "    "
   ]
  },
  {
   "cell_type": "code",
   "execution_count": 167,
   "metadata": {
    "scrolled": false
   },
   "outputs": [
    {
     "name": "stdout",
     "output_type": "stream",
     "text": [
      "cost:1.276198\n",
      "tensor([[1.0513, 0.4958, 0.7894],\n",
      "        [1.9792, 1.1053, 1.1049],\n",
      "        [3.0116, 1.9172, 2.2493],\n",
      "        [4.3512, 2.7302, 2.3081],\n",
      "        [5.1745, 3.1374, 1.7947],\n",
      "        [3.1162, 2.1195, 3.0782],\n",
      "        [5.2791, 3.3397, 2.6236],\n",
      "        [6.2070, 3.9493, 2.9391]], grad_fn=<AddmmBackward>)\n",
      "cost:0.830989\n",
      "tensor([[0.3120, 0.5317, 1.4927],\n",
      "        [1.1174, 1.2915, 1.7805],\n",
      "        [2.1835, 2.5687, 2.4259],\n",
      "        [3.2613, 3.4496, 2.6786],\n",
      "        [3.8060, 3.6919, 2.6086],\n",
      "        [2.4442, 3.0861, 2.7836],\n",
      "        [4.0667, 4.2094, 2.9663],\n",
      "        [4.8721, 4.9691, 3.2540]], grad_fn=<AddmmBackward>)\n",
      "cost:0.754481\n",
      "tensor([[0.0203, 0.4391, 1.8770],\n",
      "        [0.9017, 1.2099, 2.0777],\n",
      "        [2.1415, 2.6211, 2.4154],\n",
      "        [3.2844, 3.4571, 2.6480],\n",
      "        [3.8073, 3.5876, 2.7118],\n",
      "        [2.5000, 3.2615, 2.5524],\n",
      "        [4.1657, 4.2280, 2.8487],\n",
      "        [5.0471, 4.9988, 3.0494]], grad_fn=<AddmmBackward>)\n",
      "cost:0.706550\n",
      "tensor([[-0.2283,  0.4037,  2.1610],\n",
      "        [ 0.7150,  1.1873,  2.2871],\n",
      "        [ 2.0861,  2.6539,  2.4380],\n",
      "        [ 3.2871,  3.4877,  2.6147],\n",
      "        [ 3.8025,  3.5881,  2.7160],\n",
      "        [ 2.5140,  3.3370,  2.4629],\n",
      "        [ 4.2304,  4.2712,  2.7408],\n",
      "        [ 5.1736,  5.0548,  2.8669]], grad_fn=<AddmmBackward>)\n",
      "cost:0.671416\n",
      "tensor([[-0.4459,  0.3924,  2.3900],\n",
      "        [ 0.5522,  1.1857,  2.4515],\n",
      "        [ 2.0320,  2.6724,  2.4737],\n",
      "        [ 3.2884,  3.5156,  2.5855],\n",
      "        [ 3.8049,  3.6156,  2.6862],\n",
      "        [ 2.5136,  3.3658,  2.4345],\n",
      "        [ 4.2865,  4.3089,  2.6470],\n",
      "        [ 5.2846,  5.1022,  2.7084]], grad_fn=<AddmmBackward>)\n"
     ]
    }
   ],
   "source": [
    "training(model, optimizer, x_train, y_train)"
   ]
  },
  {
   "cell_type": "code",
   "execution_count": 168,
   "metadata": {
    "collapsed": true
   },
   "outputs": [
    {
     "name": "stdout",
     "output_type": "stream",
     "text": [
      "torch.return_types.max(\n",
      "values=tensor([3.5668, 2.5577, 4.3637], grad_fn=<MaxBackward0>),\n",
      "indices=tensor([1, 2, 2]))\n",
      "tensor([[3.5467, 3.5668, 2.6345],\n",
      "        [1.0627, 1.2861, 2.5577],\n",
      "        [0.4419, 2.4672, 4.3637]], grad_fn=<AddmmBackward>)\n",
      "tensor([1, 2, 2])\n",
      "tensor([1, 2, 2])\n",
      "tensor([1, 1, 1], dtype=torch.uint8)\n",
      "ac:1.0, cost:0.476633220911026\n"
     ]
    }
   ],
   "source": [
    "test(model, x_test, y_test)"
   ]
  },
  {
   "cell_type": "markdown",
   "metadata": {},
   "source": [
    "# linear function test"
   ]
  },
  {
   "cell_type": "markdown",
   "metadata": {},
   "source": [
    "a = torch.FloatTensor([1,3,5,6,7])\n",
    "a"
   ]
  },
  {
   "cell_type": "markdown",
   "metadata": {},
   "source": [
    "model2 = SMCM()"
   ]
  },
  {
   "cell_type": "markdown",
   "metadata": {},
   "source": [
    "model2(a)"
   ]
  }
 ],
 "metadata": {
  "kernelspec": {
   "display_name": "Python 3",
   "language": "python",
   "name": "python3"
  },
  "language_info": {
   "codemirror_mode": {
    "name": "ipython",
    "version": 3
   },
   "file_extension": ".py",
   "mimetype": "text/x-python",
   "name": "python",
   "nbconvert_exporter": "python",
   "pygments_lexer": "ipython3",
   "version": "3.6.9"
  }
 },
 "nbformat": 4,
 "nbformat_minor": 2
}
