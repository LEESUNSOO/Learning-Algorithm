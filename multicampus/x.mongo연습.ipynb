{
 "cells": [
  {
   "cell_type": "code",
   "execution_count": 2,
   "metadata": {},
   "outputs": [],
   "source": [
    "import pymongo\n",
    "from pymongo import MongoClient\n",
    "\n",
    "\n",
    "client = MongoClient('localhost', 27017)"
   ]
  },
  {
   "cell_type": "code",
   "execution_count": 20,
   "metadata": {},
   "outputs": [
    {
     "name": "stdout",
     "output_type": "stream",
     "text": [
      "{'Title': '[★LUCKY USA★] 미서부 두도시여행 샌프란시스코 & LA 5박7일'}\n",
      "{'Title': '[★미서부 두도시여행★] 샌프란시스코/라스베가스 자유 7일'}\n",
      "{'Title': '[미서부 10일] 세도시 샌프란시스코+라스베가스+LA 자유여행_유나이티드항공'}\n",
      "{'Title': '◈내가만드는 여행◈ 뉴욕 선택과 자유 8일'}\n",
      "{'Title': '◈내가만드는 여행◈ 뉴욕 선택과 자유 10일_저녁출발 아시아나항공'}\n",
      "{'Title': '◈내가만드는 여행◈ 뉴욕 자세히보기 7일'}\n",
      "{'Title': '◈내가만드는 여행/맨하탄 3박◈ 뉴욕 선택과 자유 8일'}\n",
      "{'Title': '■미대륙 완전일주■미국/캐나다 동부+미국 서부 3대도시&4대캐년 16일'}\n",
      "{'Title': '[KE 보스턴 취항기념] 뉴욕/보스턴 7일 (뉴욕 당일투어포함)'}\n",
      "{'Title': '[3대캐년&홀스슈밴드 투어포함] 라스베가스 자유 6일'}\n"
     ]
    }
   ],
   "source": [
    "db = client['test']\n",
    "info = db['TourInfo']\n",
    "docs = info.find({}, {'Title':True, '_id' :False})\n",
    "for doc in docs:\n",
    "\n",
    "    print(doc)"
   ]
  },
  {
   "cell_type": "code",
   "execution_count": null,
   "metadata": {},
   "outputs": [],
   "source": []
  }
 ],
 "metadata": {
  "kernelspec": {
   "display_name": "Python 3",
   "language": "python",
   "name": "python3"
  },
  "language_info": {
   "codemirror_mode": {
    "name": "ipython",
    "version": 3
   },
   "file_extension": ".py",
   "mimetype": "text/x-python",
   "name": "python",
   "nbconvert_exporter": "python",
   "pygments_lexer": "ipython3",
   "version": "3.7.3"
  }
 },
 "nbformat": 4,
 "nbformat_minor": 2
}
