{
 "cells": [
  {
   "cell_type": "code",
   "execution_count": 1,
   "metadata": {},
   "outputs": [],
   "source": [
    "import torch\n",
    "import torch.optim as optim"
   ]
  },
  {
   "cell_type": "markdown",
   "metadata": {},
   "source": [
    "t = torch.Tensor(3,3)\n",
    "print(t)\n"
   ]
  },
  {
   "cell_type": "markdown",
   "metadata": {},
   "source": [
    "x_train = torch.FloatTensor([[1],[2],[3]])\n",
    "y_train = torch.FloatTensor([[1],[2],[3]])\n",
    "\n",
    "w = torch.zeros(1, requires_grad = True)\n",
    "# b = torch.zeros(1, requires_grad = True)\n"
   ]
  },
  {
   "cell_type": "markdown",
   "metadata": {},
   "source": [
    "optimizer = optim.SGD([w], lr = 0.15)\n",
    "\n",
    "epochs = 10\n",
    "\n",
    "for epoch in range(1, epochs+1):\n",
    "\n",
    "    hypothesis = x_train *w # +b\n",
    "    cost = torch.mean((hypothesis - y_train)**2)\n",
    "\n",
    "    optimizer.zero_grad()\n",
    "    cost.backward()\n",
    "    optimizer.step()\n",
    "    \n",
    "    #if epoch % 10 == 0:\n",
    "        # print(hypothesis)\n",
    "    print(\"{:.3f} , {:.6f}\".format(w.item(), cost.item()))\n"
   ]
  },
  {
   "cell_type": "code",
   "execution_count": 2,
   "metadata": {},
   "outputs": [],
   "source": [
    "x_train = torch.FloatTensor([[73, 80, 75],\n",
    "                             [93, 88, 93],\n",
    "                             [89, 91, 90],\n",
    "                             [96, 98, 100],\n",
    "                             [73, 66, 70]])\n",
    "y_train = torch.FloatTensor([[152], [185], [180], [196], [142]])\n"
   ]
  },
  {
   "cell_type": "code",
   "execution_count": 13,
   "metadata": {},
   "outputs": [],
   "source": [
    "w = torch.zeros((3,1), requires_grad = True)\n",
    "b = torch.zeros(1, requires_grad = True)\n"
   ]
  },
  {
   "cell_type": "markdown",
   "metadata": {},
   "source": [
    "optimizer = optim.SGD([w,b], lr = 0.00001)\n",
    "\n",
    "epochs = 20\n",
    "for epoch in range(epochs +1):\n",
    "    hypothesis = x_train.matmul(w) + b\n",
    "    cost = torch.mean((hypothesis - y_train)**2)\n",
    "    \n",
    "    optimizer.zero_grad()\n",
    "    cost.backward()\n",
    "    optimizer.step()\n",
    "    \n",
    "    print(\"hy : {}, cost : {:.6f}\".format(hypothesis, cost.item()))\n",
    "    "
   ]
  },
  {
   "cell_type": "code",
   "execution_count": 14,
   "metadata": {},
   "outputs": [],
   "source": [
    "import torch.nn as nn\n",
    "\n",
    "class mvlr(nn.Module):\n",
    "    def __init__(self):\n",
    "        super().__init__()\n",
    "        self.linear = nn.Linear(3,1)\n",
    "        \n",
    "    def forward(self, x):\n",
    "        return self.linear(x)\n",
    "    "
   ]
  },
  {
   "cell_type": "code",
   "execution_count": 26,
   "metadata": {
    "collapsed": true
   },
   "outputs": [
    {
     "name": "stdout",
     "output_type": "stream",
     "text": [
      "hy : tensor([ 0.0291, -2.8808, -1.4141, -0.4216, -3.8750]), cost : 30233.273438\n",
      "hy : tensor([67.9242, 78.7260, 78.9935, 87.1403, 58.3708]), cost : 9481.900391\n",
      "hy : tensor([105.9358, 124.4149, 124.0106, 136.1629,  93.2204]), cost : 2977.442383\n",
      "hy : tensor([127.2167, 149.9947, 149.2139, 163.6087, 112.7318]), cost : 938.639160\n",
      "hy : tensor([139.1306, 164.3162, 163.3242, 178.9745, 123.6559]), cost : 299.579559\n",
      "hy : tensor([145.8003, 172.3346, 171.2238, 187.5771, 129.7723]), cost : 99.266258\n",
      "hy : tensor([149.5341, 176.8241, 175.6465, 192.3933, 133.1971]), cost : 36.475834\n",
      "hy : tensor([151.6240, 179.3379, 178.1224, 195.0896, 135.1149]), cost : 16.791956\n",
      "hy : tensor([152.7937, 180.7456, 179.5085, 196.5990, 136.1890]), cost : 10.619614\n",
      "hy : tensor([153.4481, 181.5340, 180.2843, 197.4440, 136.7908]), cost : 8.682399\n",
      "hy : tensor([153.8140, 181.9757, 180.7186, 197.9169, 137.1281]), cost : 8.072761\n",
      "hy : tensor([154.0185, 182.2233, 180.9616, 198.1816, 137.3173]), cost : 7.879136\n",
      "hy : tensor([154.1325, 182.3622, 181.0975, 198.3297, 137.4237]), cost : 7.816002\n",
      "hy : tensor([154.1959, 182.4403, 181.1735, 198.4124, 137.4837]), cost : 7.793723\n",
      "hy : tensor([154.2310, 182.4843, 181.2159, 198.4587, 137.5176]), cost : 7.784280\n",
      "hy : tensor([154.2502, 182.5092, 181.2395, 198.4844, 137.5371]), cost : 7.778853\n",
      "hy : tensor([154.2606, 182.5235, 181.2526, 198.4987, 137.5483]), cost : 7.774655\n",
      "hy : tensor([154.2659, 182.5317, 181.2598, 198.5067, 137.5551]), cost : 7.770912\n",
      "hy : tensor([154.2685, 182.5367, 181.2637, 198.5110, 137.5592]), cost : 7.767235\n",
      "hy : tensor([154.2695, 182.5397, 181.2657, 198.5133, 137.5620]), cost : 7.763644\n",
      "hy : tensor([154.2696, 182.5417, 181.2668, 198.5144, 137.5639]), cost : 7.760032\n"
     ]
    }
   ],
   "source": [
    "import torch.nn.functional as F\n",
    "\n",
    "model = mvlr()\n",
    "\n",
    "optimizer = optim.SGD(model.parameters(), lr = 1e-5)\n",
    "\n",
    "epochs = 20\n",
    "for epoch in range(epochs+1):\n",
    "    \n",
    "    hypothesis = model(x_train)\n",
    "    \n",
    "    cost = F.mse_loss(hypothesis, y_train)\n",
    "    \n",
    "    optimizer.zero_grad()\n",
    "    cost.backward()\n",
    "    optimizer.step()\n",
    "    \n",
    "    print(\"hy : {}, cost : {:.6f}\".format(hypothesis.squeeze().detach(), cost.item()))\n",
    "      \n",
    "    "
   ]
  },
  {
   "cell_type": "code",
   "execution_count": null,
   "metadata": {},
   "outputs": [],
   "source": []
  },
  {
   "cell_type": "code",
   "execution_count": null,
   "metadata": {},
   "outputs": [],
   "source": []
  },
  {
   "cell_type": "code",
   "execution_count": null,
   "metadata": {},
   "outputs": [],
   "source": []
  },
  {
   "cell_type": "code",
   "execution_count": null,
   "metadata": {},
   "outputs": [],
   "source": []
  },
  {
   "cell_type": "code",
   "execution_count": null,
   "metadata": {},
   "outputs": [],
   "source": []
  },
  {
   "cell_type": "code",
   "execution_count": null,
   "metadata": {},
   "outputs": [],
   "source": []
  },
  {
   "cell_type": "code",
   "execution_count": null,
   "metadata": {},
   "outputs": [],
   "source": []
  },
  {
   "cell_type": "code",
   "execution_count": null,
   "metadata": {},
   "outputs": [],
   "source": []
  },
  {
   "cell_type": "code",
   "execution_count": null,
   "metadata": {},
   "outputs": [],
   "source": []
  },
  {
   "cell_type": "code",
   "execution_count": null,
   "metadata": {},
   "outputs": [],
   "source": []
  }
 ],
 "metadata": {
  "kernelspec": {
   "display_name": "Python 3",
   "language": "python",
   "name": "python3"
  },
  "language_info": {
   "codemirror_mode": {
    "name": "ipython",
    "version": 3
   },
   "file_extension": ".py",
   "mimetype": "text/x-python",
   "name": "python",
   "nbconvert_exporter": "python",
   "pygments_lexer": "ipython3",
   "version": "3.6.9"
  }
 },
 "nbformat": 4,
 "nbformat_minor": 2
}
