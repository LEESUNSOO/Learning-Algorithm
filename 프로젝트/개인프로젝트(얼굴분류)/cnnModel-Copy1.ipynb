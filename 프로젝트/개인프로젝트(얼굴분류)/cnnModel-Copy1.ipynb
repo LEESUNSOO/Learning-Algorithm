{
 "cells": [
  {
   "cell_type": "code",
   "execution_count": 0,
   "metadata": {
    "colab": {
     "base_uri": "https://localhost:8080/",
     "height": 125
    },
    "colab_type": "code",
    "executionInfo": {
     "elapsed": 19969,
     "status": "ok",
     "timestamp": 1576415994947,
     "user": {
      "displayName": "이선수",
      "photoUrl": "https://lh3.googleusercontent.com/a-/AAuE7mBRs8L7Bi_vyMg5gS9YQONS5gngQJBKlGPRbusm2g=s64",
      "userId": "02136614412664883796"
     },
     "user_tz": -540
    },
    "id": "8etvISkzd1l-",
    "outputId": "a7dc5172-a614-4cd2-d20e-423ea08b1c5e"
   },
   "outputs": [
    {
     "name": "stdout",
     "output_type": "stream",
     "text": [
      "Go to this URL in a browser: https://accounts.google.com/o/oauth2/auth?client_id=947318989803-6bn6qk8qdgf4n4g3pfee6491hc0brc4i.apps.googleusercontent.com&redirect_uri=urn%3aietf%3awg%3aoauth%3a2.0%3aoob&response_type=code&scope=email%20https%3a%2f%2fwww.googleapis.com%2fauth%2fdocs.test%20https%3a%2f%2fwww.googleapis.com%2fauth%2fdrive%20https%3a%2f%2fwww.googleapis.com%2fauth%2fdrive.photos.readonly%20https%3a%2f%2fwww.googleapis.com%2fauth%2fpeopleapi.readonly\n",
      "\n",
      "Enter your authorization code:\n",
      "··········\n",
      "Mounted at /content/gdrive\n"
     ]
    }
   ],
   "source": [
    "from google.colab import drive\n",
    "drive.mount('/content/gdrive')"
   ]
  },
  {
   "cell_type": "code",
   "execution_count": 0,
   "metadata": {
    "colab": {
     "base_uri": "https://localhost:8080/",
     "height": 98
    },
    "colab_type": "code",
    "executionInfo": {
     "elapsed": 2528,
     "status": "ok",
     "timestamp": 1576415996132,
     "user": {
      "displayName": "이선수",
      "photoUrl": "https://lh3.googleusercontent.com/a-/AAuE7mBRs8L7Bi_vyMg5gS9YQONS5gngQJBKlGPRbusm2g=s64",
      "userId": "02136614412664883796"
     },
     "user_tz": -540
    },
    "id": "m2sjU9fH7qp3",
    "outputId": "cebc4be4-785d-4ec3-e812-54521a4f8260"
   },
   "outputs": [
    {
     "name": "stderr",
     "output_type": "stream",
     "text": [
      "Using TensorFlow backend.\n"
     ]
    },
    {
     "data": {
      "text/html": [
       "<p style=\"color: red;\">\n",
       "The default version of TensorFlow in Colab will soon switch to TensorFlow 2.x.<br>\n",
       "We recommend you <a href=\"https://www.tensorflow.org/guide/migrate\" target=\"_blank\">upgrade</a> now \n",
       "or ensure your notebook will continue to use TensorFlow 1.x via the <code>%tensorflow_version 1.x</code> magic:\n",
       "<a href=\"https://colab.research.google.com/notebooks/tensorflow_version.ipynb\" target=\"_blank\">more info</a>.</p>\n"
      ],
      "text/plain": [
       "<IPython.core.display.HTML object>"
      ]
     },
     "metadata": {
      "tags": []
     },
     "output_type": "display_data"
    }
   ],
   "source": [
    "import os, glob, numpy as np\n",
    "from keras.models import Sequential\n",
    "from keras.layers import Conv2D, MaxPooling2D, Dense, Flatten, Dropout\n",
    "from keras.callbacks import EarlyStopping, ModelCheckpoint\n",
    "import matplotlib.pyplot as plt\n",
    "import keras.backend.tensorflow_backend as K\n",
    "import tensorflow as tf\n",
    "from keras.preprocessing.image import ImageDataGenerator, array_to_img, img_to_array, load_img\n",
    "import keras"
   ]
  },
  {
   "cell_type": "code",
   "execution_count": 0,
   "metadata": {
    "colab": {},
    "colab_type": "code",
    "id": "T1zvr50E_ZTx"
   },
   "outputs": [],
   "source": [
    "batch_size = 27\n",
    "nb_classes = 6\n",
    "\n",
    "train_datagen = ImageDataGenerator(\n",
    "        rescale=1./255,\n",
    "        shear_range=0.2,\n",
    "        zoom_range=0.2,\n",
    "        horizontal_flip=True)\n",
    "\n",
    "validation_datagen = ImageDataGenerator(rescale=1./255)\n",
    "test_datagen = ImageDataGenerator(rescale=1./255)"
   ]
  },
  {
   "cell_type": "code",
   "execution_count": 0,
   "metadata": {
    "colab": {
     "base_uri": "https://localhost:8080/",
     "height": 70
    },
    "colab_type": "code",
    "executionInfo": {
     "elapsed": 819,
     "status": "ok",
     "timestamp": 1576427643720,
     "user": {
      "displayName": "이선수",
      "photoUrl": "https://lh3.googleusercontent.com/a-/AAuE7mBRs8L7Bi_vyMg5gS9YQONS5gngQJBKlGPRbusm2g=s64",
      "userId": "02136614412664883796"
     },
     "user_tz": -540
    },
    "id": "I-gVF7AC_ZQ0",
    "outputId": "7322ee4e-c757-4853-a85e-fe68bf625589"
   },
   "outputs": [
    {
     "name": "stdout",
     "output_type": "stream",
     "text": [
      "Found 4077 images belonging to 6 classes.\n",
      "Found 1746 images belonging to 6 classes.\n",
      "Found 1746 images belonging to 6 classes.\n"
     ]
    }
   ],
   "source": [
    "imgdir = '/content/gdrive/My Drive/Colab Notebooks/programmers/preData/'\n",
    "\n",
    "train_generator = train_datagen.flow_from_directory(\n",
    "        imgdir + 'train',  \n",
    "        target_size=(128, 128),  \n",
    "        batch_size=batch_size,\n",
    "        class_mode='categorical')  \n",
    "\n",
    "validation_generator = validation_datagen.flow_from_directory(\n",
    "        imgdir + 'test',\n",
    "        target_size=(128, 128),\n",
    "        batch_size=batch_size,\n",
    "        class_mode='categorical')\n",
    "\n",
    "test_generator = test_datagen.flow_from_directory(\n",
    "        imgdir + 'test',\n",
    "        target_size=(128, 128),\n",
    "        batch_size=batch_size,\n",
    "        class_mode='categorical')"
   ]
  },
  {
   "cell_type": "code",
   "execution_count": 0,
   "metadata": {
    "colab": {},
    "colab_type": "code",
    "id": "Q91QPVdRZH_S"
   },
   "outputs": [],
   "source": [
    "MODEL_SAVE_FOLDER_PATH = '/content/gdrive/My Drive/Colab Notebooks/programmers/model'\n",
    "if not os.path.exists(MODEL_SAVE_FOLDER_PATH):\n",
    "  os.mkdir(MODEL_SAVE_FOLDER_PATH)\n",
    "\n",
    "model_path = MODEL_SAVE_FOLDER_PATH + '{epoch:02d}-{val_loss:.4f}.hdf5'\n",
    "\n",
    "cb_checkpoint = ModelCheckpoint(filepath=model_path, monitor='val_loss', verbose=1, save_best_only=True)"
   ]
  },
  {
   "cell_type": "code",
   "execution_count": 0,
   "metadata": {
    "colab": {},
    "colab_type": "code",
    "id": "pJhPCvqI_ZLb"
   },
   "outputs": [],
   "source": [
    "model = Sequential()\n",
    "model.add(Conv2D(32, (3,3), padding=\"same\", input_shape=(128,128,3), activation='relu'))\n",
    "model.add(MaxPooling2D(pool_size=(2,2)))\n",
    "model.add(Dropout(0.25))\n",
    "\n",
    "model.add(Conv2D(64, (3,3), padding=\"same\", activation='relu'))\n",
    "model.add(MaxPooling2D(pool_size=(2,2)))\n",
    "model.add(Dropout(0.25))\n",
    "\n",
    "model.add(Flatten())\n",
    "model.add(Dense(256, activation='relu'))\n",
    "model.add(Dropout(0.5))\n",
    "model.add(Dense(nb_classes, activation='softmax'))"
   ]
  },
  {
   "cell_type": "code",
   "execution_count": 0,
   "metadata": {
    "colab": {},
    "colab_type": "code",
    "id": "zYzPrBke710F"
   },
   "outputs": [],
   "source": [
    "optim = keras.optimizers.Adam(lr = 0.001)\n",
    "#model.load_weights('/content/gdrive/My Drive/Colab Notebooks/programmers/weight/model71-0.2896.hdf5')\n",
    "model.compile(loss='categorical_crossentropy', optimizer=optim, metrics=['accuracy'])"
   ]
  },
  {
   "cell_type": "code",
   "execution_count": 0,
   "metadata": {
    "colab": {},
    "colab_type": "code",
    "id": "NYPLDdOVDp5M"
   },
   "outputs": [],
   "source": [
    "model.fit_generator(\n",
    "        train_generator,\n",
    "        steps_per_epoch= 4077 // batch_size, \n",
    "        validation_data = validation_generator,\n",
    "        epochs=100,\n",
    "        callbacks = [cb_checkpoint])"
   ]
  },
  {
   "cell_type": "code",
   "execution_count": 0,
   "metadata": {
    "colab": {},
    "colab_type": "code",
    "id": "GiNygcBufdLV"
   },
   "outputs": [],
   "source": [
    "#model.load_weights('/content/gdrive/My Drive/Colab Notebooks/programmers/2624model07-0.9192.hdf5')"
   ]
  },
  {
   "cell_type": "code",
   "execution_count": 0,
   "metadata": {
    "colab": {},
    "colab_type": "code",
    "id": "UHGxkOfxf1N0"
   },
   "outputs": [],
   "source": [
    "import pandas as pd\n",
    "import numpy as np"
   ]
  },
  {
   "cell_type": "code",
   "execution_count": 0,
   "metadata": {
    "colab": {
     "base_uri": "https://localhost:8080/",
     "height": 34
    },
    "colab_type": "code",
    "executionInfo": {
     "elapsed": 3241,
     "status": "ok",
     "timestamp": 1576437079393,
     "user": {
      "displayName": "이선수",
      "photoUrl": "https://lh3.googleusercontent.com/a-/AAuE7mBRs8L7Bi_vyMg5gS9YQONS5gngQJBKlGPRbusm2g=s64",
      "userId": "02136614412664883796"
     },
     "user_tz": -540
    },
    "id": "7QYbHh4UfQTg",
    "outputId": "b05d7129-b128-4fa4-f88d-129dac153766"
   },
   "outputs": [
    {
     "name": "stdout",
     "output_type": "stream",
     "text": [
      "2000\n"
     ]
    }
   ],
   "source": [
    "X = np.load('/content/gdrive/My Drive/Colab Notebooks/programmers/testnp.npy')\n",
    "X = np.array(X)\n",
    "prediction = model.predict(X)\n",
    "temp = []\n",
    "for i in prediction:\n",
    "  #print(np.argmax(i))\n",
    "  temp.append(np.argmax(i)+1)\n",
    "print(len(temp))\n",
    "pred = pd.DataFrame({'prediction' : temp})\n",
    "pred.to_csv(\"/content/gdrive/My Drive/Colab Notebooks/programmers/9192.csv\")"
   ]
  }
 ],
 "metadata": {
  "accelerator": "GPU",
  "colab": {
   "collapsed_sections": [],
   "name": "computer vision cnn model.ipynb",
   "provenance": [
    {
     "file_id": "1nXWwOeFp3lP0o2wBDo7nX6v5wFpipUfD",
     "timestamp": 1576437312537
    },
    {
     "file_id": "1oTwQqdx2bEKHXgXcz4l6eggnGRwT_9_8",
     "timestamp": 1575977540432
    }
   ]
  },
  "kernelspec": {
   "display_name": "Python 3",
   "language": "python",
   "name": "python3"
  },
  "language_info": {
   "codemirror_mode": {
    "name": "ipython",
    "version": 3
   },
   "file_extension": ".py",
   "mimetype": "text/x-python",
   "name": "python",
   "nbconvert_exporter": "python",
   "pygments_lexer": "ipython3",
   "version": "3.6.9"
  }
 },
 "nbformat": 4,
 "nbformat_minor": 1
}
