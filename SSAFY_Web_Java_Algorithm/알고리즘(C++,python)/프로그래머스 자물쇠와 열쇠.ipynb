{
 "cells": [
  {
   "cell_type": "markdown",
   "metadata": {},
   "source": [
    "numpy의 rotate함수를 활용하면 조금 더 쉽게 풀 수 있을거라 생각해서 도전해 봄"
   ]
  },
  {
   "cell_type": "code",
   "execution_count": 210,
   "metadata": {},
   "outputs": [],
   "source": [
    "import numpy as np\n",
    "\n",
    "def rotate90(key):\n",
    "    return np.rot90(key) # 반시계 방향으로 90도 회전\n",
    "\n",
    "def solution(key, lock):\n",
    "    answer = False\n",
    "    lock_length, key_length = len(lock), len(key)\n",
    "    lock_padxy,key_padxy = lock_length - 1,  key_length - 1\n",
    "    \n",
    "    key_pad = np.pad(key, pad_width = lock_padxy, mode = 'constant', constant_values = 0)\n",
    "    \n",
    "    ran = lock_padxy+key_length\n",
    "    \n",
    "    cnt = 0\n",
    "    while(cnt!=4):\n",
    "        \n",
    "        for i in range(ran): # 0 ~ 2+3+1 -> 0~6\n",
    "            for j in range(ran):\n",
    "                s = key_pad[i:i+lock_length, j:j+lock_length]\n",
    "                temp = s+lock\n",
    "                uniq = np.unique(temp)\n",
    "                if len(uniq) == 1:\n",
    "                    temp = temp.sum()\n",
    "                    if temp == lock_length * lock_length:\n",
    "                        return True\n",
    "        key_pad = rotate90(key_pad)\n",
    "        cnt += 1\n",
    "\n",
    "    return answer"
   ]
  },
  {
   "cell_type": "code",
   "execution_count": 211,
   "metadata": {},
   "outputs": [],
   "source": [
    "key = [[1,0,1], [0,1,0], [0,0,0]]\n",
    "lock = [[1, 1, 0, 1, 1], [1, 0, 1, 0, 1], [1, 1, 1, 1, 1], [1, 1, 1, 1, 1], [1,1,1,1,1]]"
   ]
  },
  {
   "cell_type": "code",
   "execution_count": 212,
   "metadata": {
    "scrolled": true
   },
   "outputs": [
    {
     "data": {
      "text/plain": [
       "True"
      ]
     },
     "execution_count": 212,
     "metadata": {},
     "output_type": "execute_result"
    }
   ],
   "source": [
    "solution(key, lock)"
   ]
  }
 ],
 "metadata": {
  "kernelspec": {
   "display_name": "Python 3",
   "language": "python",
   "name": "python3"
  },
  "language_info": {
   "codemirror_mode": {
    "name": "ipython",
    "version": 3
   },
   "file_extension": ".py",
   "mimetype": "text/x-python",
   "name": "python",
   "nbconvert_exporter": "python",
   "pygments_lexer": "ipython3",
   "version": "3.6.9"
  }
 },
 "nbformat": 4,
 "nbformat_minor": 2
}
