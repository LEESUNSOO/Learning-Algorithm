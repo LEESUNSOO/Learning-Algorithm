{
 "cells": [
  {
   "cell_type": "code",
   "execution_count": 172,
   "metadata": {},
   "outputs": [],
   "source": [
    "timetable = dict() # 전역변수인, list나 dict은 자체를 다른 값으로 변경이 불가능하지만 내부 수정은 가능하다\n",
    "\n",
    "def dup(time):\n",
    "    \n",
    "    if time not in timetable.keys():\n",
    "        return time\n",
    "    else:\n",
    "        return dup(time- 0.000001)\n",
    "    \n",
    "    # 0.000001 : 기본적으로 같은 key의 중복을 방지하기 위한 함수이다\n",
    "    # 하지만, hash값의 변경을 마음대로 변경해서는 안되는 중요한 '시간'이라는 데이터이기때문에\n",
    "    # 조건을 고려하여 주어지는 로그데이터의 갯수(2000개)를 고려하여 중복을 방지하는 범위를 선정한 것.\n",
    "    # 최종적으로 재검토(재귀)\n",
    "    \n",
    "    \n",
    "def solution(lines):\n",
    "    answer = 0\n",
    "    \n",
    "    for idx, line in enumerate(lines):\n",
    "        end, during = line.split(\" \")[1:]\n",
    "        during = float(during[:-1])\n",
    "        h, m, s = end.split(\":\")\n",
    "        end = int(h) * 60 * 60 + int(m) * 60 + float(s)\n",
    "        start = (end - during + 0.001) + (-1 + 0.001) - 0.0001\n",
    "        \n",
    "        # 0.001 : 시간의 포함개념 ex) 2초~3초 ( 2 <= x <= 3 : 3-2+1) 일때,\n",
    "        # 초단위가 0.001 범위까지 주어지기 때문에 더해준다\n",
    "        \n",
    "        # -1 : 특정 로그데이터의 시작과 끝 사이에 다른 로그데이터와의 중첩이 발생\n",
    "        # 하는 경우를 고려했을 때, 1초간의 window를 파악하는 것이기 때문에\n",
    "        # 시작 지점을 1초 앞당겨주는 방식\n",
    "    \n",
    "        # -0.0001 : A의 end지점과 B(A보다 늦은 시간대)의 start지점이 겹치는 경우,\n",
    "        # 조건상 같은 window에 들어있음에도 불구하고 추후 연산에서 별개가 되기때문에(꺼진 후, 켜지기 때문에 counting 되지 않음)\n",
    "        # 조건에 영향을 끼치지 않는 소수점 넷째짜리의 감소를 사용하여 조금 더 당겨주는 것\n",
    "        \n",
    "        timetable[dup(start)] = idx\n",
    "        timetable[dup(end)] = idx\n",
    "        \n",
    "    history = [] # traffic 상태를 기록할 list\n",
    "    traffic = [0]*len(lines)\n",
    "    \n",
    "    for key in sorted(timetable.keys()):\n",
    "        if traffic[timetable[key]] == 0 :\n",
    "            traffic[timetable[key]] = 1\n",
    "        else:\n",
    "            traffic[timetable[key]] = 0\n",
    "        history.append(traffic.count(1))\n",
    "\n",
    "    answer = max(history)\n",
    "    \n",
    "    return answer"
   ]
  },
  {
   "cell_type": "code",
   "execution_count": 173,
   "metadata": {},
   "outputs": [
    {
     "data": {
      "text/plain": [
       "7"
      ]
     },
     "execution_count": 173,
     "metadata": {},
     "output_type": "execute_result"
    }
   ],
   "source": [
    "solution(lines)"
   ]
  }
 ],
 "metadata": {
  "kernelspec": {
   "display_name": "Python 3",
   "language": "python",
   "name": "python3"
  },
  "language_info": {
   "codemirror_mode": {
    "name": "ipython",
    "version": 3
   },
   "file_extension": ".py",
   "mimetype": "text/x-python",
   "name": "python",
   "nbconvert_exporter": "python",
   "pygments_lexer": "ipython3",
   "version": "3.6.9"
  }
 },
 "nbformat": 4,
 "nbformat_minor": 2
}
