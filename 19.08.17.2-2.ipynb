{
 "cells": [
  {
   "cell_type": "code",
   "execution_count": 1,
   "metadata": {},
   "outputs": [],
   "source": [
    "import torch\n",
    "import torch.nn as nn\n",
    "import torch.nn.functional as F\n",
    "import torch.optim as optim"
   ]
  },
  {
   "cell_type": "code",
   "execution_count": 2,
   "metadata": {},
   "outputs": [
    {
     "name": "stdout",
     "output_type": "stream",
     "text": [
      "tensor([[0.0327, 0.7439, 0.8333, 0.9000, 0.7648],\n",
      "        [0.4651, 0.2914, 0.1750, 0.7335, 0.7296],\n",
      "        [0.2393, 0.8320, 0.7943, 0.5977, 0.8802]], requires_grad=True)\n",
      "hypo: tensor([[0.1028, 0.2094, 0.2290, 0.2448, 0.2139],\n",
      "        [0.1923, 0.1617, 0.1439, 0.2515, 0.2506],\n",
      "        [0.1269, 0.2295, 0.2211, 0.1816, 0.2409]], grad_fn=<SoftmaxBackward>)\n",
      "tensor([1, 3, 2])\n",
      "tensor([[1],\n",
      "        [3],\n",
      "        [2]])\n"
     ]
    },
    {
     "data": {
      "text/plain": [
       "tensor([[0., 1., 0., 0., 0.],\n",
       "        [0., 0., 0., 1., 0.],\n",
       "        [0., 0., 1., 0., 0.]])"
      ]
     },
     "execution_count": 2,
     "metadata": {},
     "output_type": "execute_result"
    }
   ],
   "source": [
    "z = torch.rand(3,5, requires_grad = True)\n",
    "y = torch.randint(5,(3,)).long()\n",
    "hypothesis = F.softmax(z, dim = 1)\n",
    "print(z)\n",
    "print(\"hypo:\",hypothesis)\n",
    "print(y)\n",
    "print(y.unsqueeze(1))\n",
    "hypothesis[0].sum()\n",
    "y_one_hot = torch.zeros_like(hypothesis)\n",
    "\n",
    "y_one_hot.scatter_(1,y.unsqueeze(1), 1)\n",
    "#y_one_hot"
   ]
  },
  {
   "cell_type": "code",
   "execution_count": 3,
   "metadata": {},
   "outputs": [
    {
     "name": "stdout",
     "output_type": "stream",
     "text": [
      "tensor([[0.0000, 1.5633, 0.0000, 0.0000, 0.0000],\n",
      "        [0.0000, 0.0000, 0.0000, 1.3802, 0.0000],\n",
      "        [0.0000, 0.0000, 1.5093, 0.0000, 0.0000]], grad_fn=<MulBackward0>)\n",
      "tensor([1.5633, 1.3802, 1.5093], grad_fn=<SumBackward2>)\n"
     ]
    },
    {
     "data": {
      "text/plain": [
       "tensor(1.4843, grad_fn=<MeanBackward0>)"
      ]
     },
     "execution_count": 3,
     "metadata": {},
     "output_type": "execute_result"
    }
   ],
   "source": [
    "print(y_one_hot*-torch.log(hypothesis))\n",
    "print((y_one_hot*-torch.log(hypothesis)).sum(dim=1))\n",
    "cost = (y_one_hot*-torch.log(hypothesis)).sum(dim=1).mean()\n",
    "\n",
    "cost"
   ]
  },
  {
   "cell_type": "markdown",
   "metadata": {},
   "source": [
    "a = torch.FloatTensor([[1,2,1,2],[2,3,2,3],[3,4,3,4],[4,5,4,5],[5,6,5,6]])\n",
    "b = torch.FloatTensor([[3],[4],[5],[6],[7]])\n",
    "\n",
    "a.sum(dim = 1)"
   ]
  },
  {
   "cell_type": "code",
   "execution_count": 4,
   "metadata": {},
   "outputs": [
    {
     "data": {
      "text/plain": [
       "tensor(1.4843, grad_fn=<NllLossBackward>)"
      ]
     },
     "execution_count": 4,
     "metadata": {},
     "output_type": "execute_result"
    }
   ],
   "source": [
    "F.cross_entropy(z,y)"
   ]
  },
  {
   "cell_type": "code",
   "execution_count": 5,
   "metadata": {},
   "outputs": [],
   "source": [
    "x_train = [[1, 2, 1, 1],\n",
    "           [2, 1, 3, 2],\n",
    "           [3, 1, 3, 4],\n",
    "           [4, 1, 5, 5],\n",
    "           [1, 7, 5, 5],\n",
    "           [1, 2, 5, 6],\n",
    "           [1, 6, 6, 6],\n",
    "           [1, 7, 7, 7]]\n",
    "y_train = [2, 2, 2, 1, 1, 1, 0, 0]\n",
    "x_train = torch.FloatTensor(x_train)\n",
    "y_train = torch.LongTensor(y_train)"
   ]
  },
  {
   "cell_type": "code",
   "execution_count": 6,
   "metadata": {},
   "outputs": [
    {
     "data": {
      "text/plain": [
       "tensor([[0., 0., 0.],\n",
       "        [0., 0., 0.],\n",
       "        [0., 0., 0.],\n",
       "        [0., 0., 0.]], requires_grad=True)"
      ]
     },
     "execution_count": 6,
     "metadata": {},
     "output_type": "execute_result"
    }
   ],
   "source": [
    "w = torch.zeros((4,3), requires_grad = True) # 행렬곱 열 값이 0,1,2 세 인덱스를 나타내야하기때문에\n",
    "b = torch.zeros(1, requires_grad = True)\n",
    "w"
   ]
  },
  {
   "cell_type": "markdown",
   "metadata": {
    "scrolled": false
   },
   "source": [
    "optimizer = optim.SGD([w,b], lr = 0.1)\n",
    "epochs = 1000\n",
    "for epoch in range(epochs+1):\n",
    "    # print(x_train.matmul(w)+b)\n",
    "    hypothesis = F.softmax(x_train.matmul(w)+b, dim=1)\n",
    "    # print(hypothesis)\n",
    "    y_one_hot = torch.zeros_like(hypothesis)\n",
    "    y_one_hot.scatter_(1, y_train.unsqueeze(1), 1)\n",
    "    cost = (y_one_hot* -torch.log(F.softmax(hypothesis, dim=1))).sum(dim =1).mean()\n",
    "    # cost = (y_one_hot* -torch.log(hypothesis)).sum(dim =1).mean()\n",
    "    # 위에서 f.softmax를 왜 한번 더 썼을지? 확인해본결과 정수비가 아니여서\n",
    "    # 그런지 거듭할 수 록 격차가 좁아진다\n",
    "    # 그렇다면 코스트값도 상대적으로 작아질 것이며 결과적으로 변동이 디테일해진다\n",
    "    # print(y_one_hot)\n",
    "    optimizer.zero_grad()\n",
    "    cost.backward()\n",
    "    optimizer.step()\n",
    "    \n",
    "    if(epoch % 100 == 0):\n",
    "        print(cost.item())\n",
    "    \n",
    "    \n",
    "    "
   ]
  },
  {
   "cell_type": "markdown",
   "metadata": {},
   "source": [
    "optimizer = optim.SGD([w,b], lr = 0.1)\n",
    "epochs = 1000\n",
    "for epoch in range(epochs+1):\n",
    "    hypothesis = x_train.matmul(w)+b\n",
    "    cost = F.cross_entropy(hypothesis, y_train)\n",
    "\n",
    "    optimizer.zero_grad()\n",
    "    cost.backward()\n",
    "    optimizer.step()\n",
    "    \n",
    "    if(epoch % 100 == 0):\n",
    "        print(cost.item())\n",
    "    \n",
    "    \n",
    "    "
   ]
  },
  {
   "cell_type": "code",
   "execution_count": 7,
   "metadata": {},
   "outputs": [],
   "source": [
    "class SMCM(nn.Module):\n",
    "    def __init__(self):\n",
    "        super().__init__()\n",
    "        self.linear = nn.Linear(4,3)\n",
    "    def forward(self, x):\n",
    "        return self.linear(x)\n",
    "    \n",
    "model = SMCM()"
   ]
  },
  {
   "cell_type": "code",
   "execution_count": 8,
   "metadata": {},
   "outputs": [
    {
     "name": "stdout",
     "output_type": "stream",
     "text": [
      "2.144866704940796\n",
      "0.6243172883987427\n",
      "0.5476441383361816\n",
      "0.4947519302368164\n",
      "0.45084822177886963\n",
      "0.4113711714744568\n",
      "0.37408697605133057\n",
      "0.3375181257724762\n",
      "0.30065640807151794\n",
      "0.2644827365875244\n",
      "0.24208296835422516\n"
     ]
    }
   ],
   "source": [
    "optimizer = optim.SGD(model.parameters(), lr = 0.1)\n",
    "epochs = 1000\n",
    "for epoch in range(epochs+1):\n",
    "    hypothesis = model(x_train)\n",
    "    \n",
    "    cost = F.cross_entropy(hypothesis, y_train)\n",
    "\n",
    "    optimizer.zero_grad()\n",
    "    cost.backward()\n",
    "    optimizer.step()\n",
    "    \n",
    "    if(epoch % 100 == 0):\n",
    "        print(cost.item())\n",
    "    \n",
    "    \n",
    "    "
   ]
  },
  {
   "cell_type": "code",
   "execution_count": null,
   "metadata": {},
   "outputs": [],
   "source": []
  },
  {
   "cell_type": "code",
   "execution_count": null,
   "metadata": {},
   "outputs": [],
   "source": []
  }
 ],
 "metadata": {
  "kernelspec": {
   "display_name": "Python 3",
   "language": "python",
   "name": "python3"
  },
  "language_info": {
   "codemirror_mode": {
    "name": "ipython",
    "version": 3
   },
   "file_extension": ".py",
   "mimetype": "text/x-python",
   "name": "python",
   "nbconvert_exporter": "python",
   "pygments_lexer": "ipython3",
   "version": "3.6.9"
  }
 },
 "nbformat": 4,
 "nbformat_minor": 2
}
